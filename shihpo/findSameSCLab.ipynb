{
 "cells": [
  {
   "cell_type": "code",
   "execution_count": 1,
   "metadata": {
    "collapsed": true
   },
   "outputs": [],
   "source": [
    "import json\n",
    "import numpy as np\n",
    "import pandas as pd"
   ]
  },
  {
   "cell_type": "code",
   "execution_count": 2,
   "metadata": {
    "collapsed": true
   },
   "outputs": [],
   "source": [
    "# load booklist\n",
    "with open('booklist.json') as booklist_j_path:\n",
    "    booklist_json = json.load(booklist_j_path)\n",
    "\n",
    "df = pd.DataFrame(booklist_json)"
   ]
  },
  {
   "cell_type": "code",
   "execution_count": 92,
   "metadata": {
    "collapsed": false
   },
   "outputs": [],
   "source": [
    "# find the same series books, return a data frame\n",
    "def findSameSerie(i):\n",
    "    dfSameSerie = df[df['series'] == df['series'][i]]\n",
    "    return(dfSameSerie)\n",
    "\n",
    "# find the same category books\n",
    "def findSameCategory(i):\n",
    "    dfSameCategory = df[df['category'] == df['category'][i]]\n",
    "    return(dfSameCategory)\n",
    "\n",
    "# find same series and same category\n",
    "def findSameSC(i):\n",
    "    dfSameSC = pd.merge(findSameSerie(i), findSameCategory(i))\n",
    "    return(dfSameSC)\n",
    "\n",
    "# findSameSC(0)"
   ]
  },
  {
   "cell_type": "code",
   "execution_count": 80,
   "metadata": {
    "collapsed": false
   },
   "outputs": [
    {
     "data": {
      "text/plain": [
       "'領導病毒-免疫之後.才有真正的領導力'"
      ]
     },
     "execution_count": 80,
     "metadata": {},
     "output_type": "execute_result"
    }
   ],
   "source": [
    "df['bookname'][0]"
   ]
  },
  {
   "cell_type": "code",
   "execution_count": 83,
   "metadata": {
    "collapsed": false
   },
   "outputs": [
    {
     "name": "stdout",
     "output_type": "stream",
     "text": [
      "0\n",
      "93 座標系列\n",
      "47 商業財經--行銷企管\n",
      "\n",
      "1\n",
      "22 IDEAS\n",
      "47 商業財經--行銷企管\n",
      "\n",
      "2\n",
      "22 IDEAS\n",
      "47 商業財經--行銷企管\n",
      "\n",
      "3\n",
      "30 地球觀\n",
      "47 商業財經--行銷企管\n",
      "\n",
      "4\n",
      "12 BIZ\n",
      "47 商業財經--行銷企管\n",
      "\n",
      "5\n",
      "58 極道商學院\n",
      "47 商業財經--行銷企管\n",
      "\n",
      "6\n",
      "12 BIZ\n",
      "47 商業財經--行銷企管\n",
      "\n",
      "7\n",
      "152 野人家\n",
      "47 商業財經--行銷企管\n",
      "\n",
      "8\n",
      "11 VIEW\n",
      "47 商業財經--行銷企管\n",
      "\n",
      "9\n",
      "152 野人家\n",
      "47 商業財經--行銷企管\n",
      "\n"
     ]
    }
   ],
   "source": [
    "# print the current series, category, len(S) and len(C)\n",
    "def printSameSC(i):\n",
    "    dfSameSerie = findSameSerie(i)\n",
    "    dfSameCategory = finSameCategory(i)\n",
    "    dsslen = len(dfSameSerie)\n",
    "    dsclen = len(dfSameCategory)\n",
    "    print(dsslen, df['series'][i])\n",
    "    print(dsclen, df['category'][i])\n",
    "\n",
    "for i in range(10):\n",
    "    print(i)\n",
    "    printSameSC(i)\n",
    "    print()"
   ]
  },
  {
   "cell_type": "code",
   "execution_count": null,
   "metadata": {
    "collapsed": true
   },
   "outputs": [],
   "source": []
  }
 ],
 "metadata": {
  "kernelspec": {
   "display_name": "Python 3",
   "language": "python",
   "name": "python3"
  },
  "language_info": {
   "codemirror_mode": {
    "name": "ipython",
    "version": 3
   },
   "file_extension": ".py",
   "mimetype": "text/x-python",
   "name": "python",
   "nbconvert_exporter": "python",
   "pygments_lexer": "ipython3",
   "version": "3.5.1"
  }
 },
 "nbformat": 4,
 "nbformat_minor": 0
}
