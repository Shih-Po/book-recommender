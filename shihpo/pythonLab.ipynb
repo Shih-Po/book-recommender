{
 "cells": [
  {
   "cell_type": "code",
   "execution_count": 2,
   "metadata": {
    "collapsed": false,
    "scrolled": true
   },
   "outputs": [],
   "source": [
    "import json\n",
    "import numpy as np\n",
    "import pandas as pd"
   ]
  },
  {
   "cell_type": "code",
   "execution_count": 34,
   "metadata": {
    "collapsed": false
   },
   "outputs": [
    {
     "name": "stdout",
     "output_type": "stream",
     "text": [
      "[A]成與敗--亞洲國家的經濟運作之道 , [B] 商業財經--經貿理財\n",
      "[A]所有問題，都是一場賽局：最簡單的賽局理論入門，從情場、職場到商場，教你搞懂問題本質，做出最佳決定 , [B] 商業財經--經貿理財\n",
      "[A]投資心理學經典（套書）(賺錢，再自然不過＋紀律的交易者） , [B] 商業財經--經貿理財\n",
      "[A]股市贏家的智慧（套書）(炒股的智慧＋贏家：教你摸透詭譎市場的投資心理學） , [B] 商業財經--經貿理財\n",
      "[A]這輩子，多少錢才夠用？：做好人生金錢規畫，薪資凍漲、經濟再悶，也難不倒做好準備的人 , [B] 商業財經--經貿理財\n",
      "[A]預測分析時代──讓數據告訴你，誰會買、誰說謊、誰會離職、誰會死！ , [B] 商業財經--經貿理財\n",
      "[A]投資終極戰：耶魯操盤手告訴你，投資這樣做才穩賺 , [B] 商業財經--經貿理財\n",
      "[A]每月必存8800的理財魔法：用小錢滾出30歲的百萬富裕人生 , [B] 商業財經--經貿理財\n",
      "[A]散戶投資上手的第一本書：45個投資必勝全攻略──觀念、技術、心理、操作 , [B] 商業財經--經貿理財\n",
      "[A]股票這樣買才會賺 , [B] 商業財經--經貿理財\n"
     ]
    }
   ],
   "source": [
    "with open('booklist.json') as booklist_j_path:\n",
    "    booklist_json = json.load(booklist_j_path)\n",
    "    \n",
    "# booklist_json[0]['category']\n",
    "\n",
    "# for i in range(10):\n",
    "#    print(booklist_json[i]['category'])\n",
    "# booklist_json[0]\n",
    "\n",
    "df = pd.DataFrame(booklist_json)\n",
    "\n",
    "# loop from 90 to 100\n",
    "for i in range(90, 100):\n",
    "    print('[A]' + df['bookname'][i], ', [B]', df['category'][i])"
   ]
  },
  {
   "cell_type": "code",
   "execution_count": 24,
   "metadata": {
    "collapsed": true
   },
   "outputs": [],
   "source": [
    "def typeGenerator(i):\n",
    "    print(df['category'][i])"
   ]
  },
  {
   "cell_type": "code",
   "execution_count": 30,
   "metadata": {
    "collapsed": false,
    "scrolled": false
   },
   "outputs": [
    {
     "name": "stdout",
     "output_type": "stream",
     "text": [
      "文學小說--歐美文學\n"
     ]
    }
   ],
   "source": [
    "typeGenerator(2000)"
   ]
  },
  {
   "cell_type": "code",
   "execution_count": 33,
   "metadata": {
    "collapsed": false
   },
   "outputs": [
    {
     "name": "stdout",
     "output_type": "stream",
     "text": [
      "['的', '我']\n"
     ]
    }
   ],
   "source": [
    "a = ['的', '我']\n",
    "print(a)"
   ]
  },
  {
   "cell_type": "code",
   "execution_count": null,
   "metadata": {
    "collapsed": true
   },
   "outputs": [],
   "source": []
  }
 ],
 "metadata": {
  "kernelspec": {
   "display_name": "Python 3",
   "language": "python",
   "name": "python3"
  },
  "language_info": {
   "codemirror_mode": {
    "name": "ipython",
    "version": 3
   },
   "file_extension": ".py",
   "mimetype": "text/x-python",
   "name": "python",
   "nbconvert_exporter": "python",
   "pygments_lexer": "ipython3",
   "version": "3.5.1"
  }
 },
 "nbformat": 4,
 "nbformat_minor": 0
}
